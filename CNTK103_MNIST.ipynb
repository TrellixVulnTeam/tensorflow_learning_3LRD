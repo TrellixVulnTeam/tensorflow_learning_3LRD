{
 "cells": [
  {
   "cell_type": "markdown",
   "metadata": {},
   "source": [
    "# CNTK MNIST Example"
   ]
  },
  {
   "cell_type": "code",
   "execution_count": 10,
   "metadata": {},
   "outputs": [],
   "source": [
    "import gzip\n",
    "import matplotlib.image as mpimg\n",
    "import matplotlib.pyplot as plt\n",
    "import numpy as np\n",
    "import os, os.path\n",
    "import shutil\n",
    "import struct\n",
    "import sys\n",
    "\n",
    "try:\n",
    "    from urllib.request import urlretrieve\n",
    "except ImportError:\n",
    "    from urllib import urlretrieve\n",
    "\n",
    "plt.ion()"
   ]
  },
  {
   "cell_type": "markdown",
   "metadata": {},
   "source": [
    "## Download MNIST data"
   ]
  },
  {
   "cell_type": "code",
   "execution_count": 11,
   "metadata": {},
   "outputs": [],
   "source": [
    "def loadData(gzfname):\n",
    "    with gzip.open(gzfname) as gz:\n",
    "        n = struct.unpack('I', gz.read(4))\n",
    "        if n[0] != 0x3080000:\n",
    "            raise Exception('Invalid file: unexpected magic number.')\n",
    "        cimg = struct.unpack('>I', gz.read(4))[0]\n",
    "        \n",
    "        crow = struct.unpack('>I', gz.read(4))[0]\n",
    "        ccol = struct.unpack('>I', gz.read(4))[0]\n",
    "        if crow !=28 or ccol != 28:\n",
    "            raise Exception('Invalid file: expected 28 rows/cols per image.')\n",
    "        res = np.frombuffer(gz.read(cimg * crow * ccol), dtype = np.uint8)\n",
    "        return res.reshape((cimg, crow * ccol))\n",
    "\n",
    "def loadLabels(gzfname):\n",
    "    with gzip.open(gzfname) as gz:\n",
    "        n = struct.unpack('I', gz.read(4))\n",
    "        if n[0] != 0x1080000:\n",
    "            raise Exception('Invalid file: unexpected magic number.')\n",
    "        cimg = struct.unpack('>I', gz.read(4))[0]\n",
    "        res = np.frombuffer(gz.read(cimg), dtype=np.uint8)\n",
    "        return res.reshape((cimg, 1))\n",
    "    \n",
    "def try_download(dirname):\n",
    "    os.makedirs(dirname, exist_ok=True)\n",
    "    base_addr = 'http://yann.lecun.com/exdb/mnist/'\n",
    "    files = ['train-images-idx3-ubyte.gz','train-labels-idx1-ubyte.gz','t10k-images-idx3-ubyte.gz','t10k-labels-idx1-ubyte.gz']\n",
    "    for fname in files:\n",
    "        if not os.path.exists(os.path.join(dirname,fname)):\n",
    "            print(\"Downloading \"+base_addr+fname)\n",
    "            urlretrieve(base_addr+fname, os.path.join(dirname,fname))\n",
    "    train_data = loadData(os.path.join(dirname,files[0]))\n",
    "    train_labels = loadLabels(os.path.join(dirname,files[1]))\n",
    "    test_data = loadData(os.path.join(dirname,files[0]))\n",
    "    test_labels = loadLabels(os.path.join(dirname,files[1]))\n",
    "    return (train_data, train_labels, test_data, test_labels)\n",
    "    "
   ]
  },
  {
   "cell_type": "code",
   "execution_count": 12,
   "metadata": {},
   "outputs": [],
   "source": [
    "train_data, train_labels, test_data, test_labels = try_download('./MNIST-data')\n",
    "train = np.hstack((train_data, train_labels))\n",
    "test = np.hstack((test_data, test_labels))"
   ]
  },
  {
   "cell_type": "markdown",
   "metadata": {},
   "source": [
    "## Visualize the data"
   ]
  },
  {
   "cell_type": "code",
   "execution_count": 13,
   "metadata": {},
   "outputs": [
    {
     "name": "stdout",
     "output_type": "stream",
     "text": [
      "Image Label:  3\n"
     ]
    },
    {
     "data": {
      "image/png": "[encoded data removed]",
      "text/plain": [
       "<matplotlib.figure.Figure at 0x281f36d83c8>"
      ]
     },
     "metadata": {},
     "output_type": "display_data"
    }
   ],
   "source": [
    "sample_number = np.random.randint(0, train.shape[0])\n",
    "plt.imshow(train[sample_number,:-1].reshape(28,28), cmap=\"gray_r\")\n",
    "plt.axis('off')\n",
    "print(\"Image Label: \", train[sample_number, -1])"
   ]
  },
  {
   "cell_type": "markdown",
   "metadata": {},
   "source": [
    "## Save data files into a format compatible with CNTK text reader"
   ]
  },
  {
   "cell_type": "code",
   "execution_count": 14,
   "metadata": {},
   "outputs": [],
   "source": [
    "def savetxt(filename, ndarray):\n",
    "    dir = os.path.dirname(filename)\n",
    "    if not os.path.exists(dir):\n",
    "        os.makedirs(dir)\n",
    "    \n",
    "    print(\"Saving\", filename)\n",
    "    with open(filename, \"w\") as f:\n",
    "        labels = list(map(' '.join, np.eye(10, dtype=np.uint).astype(str)))\n",
    "        for row in ndarray:\n",
    "            row_str = row.astype(str)\n",
    "            label_str = labels[row[-1]]\n",
    "            feature_str = ' '.join(row_str[:-1])\n",
    "            f.write('|labels {} |features {}\\n'.format(label_str, feature_str))"
   ]
  },
  {
   "cell_type": "code",
   "execution_count": 15,
   "metadata": {},
   "outputs": [
    {
     "name": "stdout",
     "output_type": "stream",
     "text": [
      "Saving ./MNIST-data\\Train-28x28_cntk_text.txt\n",
      "Saving ./MNIST-data\\Test-28x28_cntk_text.txt\n"
     ]
    }
   ],
   "source": [
    "data_dir = \"./MNIST-data\"\n",
    "savetxt(os.path.join(data_dir, \"Train-28x28_cntk_text.txt\"), train)\n",
    "savetxt(os.path.join(data_dir, \"Test-28x28_cntk_text.txt\"), test)\n",
    "print(\"Done.\")"
   ]
  },
  {
   "cell_type": "markdown",
   "metadata": {},
   "source": [
    "# Logistic Regression with MNIST"
   ]
  },
  {
   "cell_type": "code",
   "execution_count": 1,
   "metadata": {},
   "outputs": [],
   "source": [
    "import cntk as C\n",
    "import cntk.tests.test_utils\n",
    "cntk.tests.test_utils.set_device_from_pytest_env()\n",
    "C.cntk_py.set_fixed_random_seed(1) # fix the random seed so that LR examples are repeatable\n",
    "input_dim = 784\n",
    "num_output_classes = 10\n",
    "\n",
    "train_file = \"./MNIST-data/Train-28x28_cntk_text.txt\"\n",
    "test_file = \"./MNIST-data/Test-28x28_cntk_text.txt\""
   ]
  },
  {
   "cell_type": "code",
   "execution_count": 8,
   "metadata": {},
   "outputs": [],
   "source": [
    "def create_reader(path, is_training, input_dim, num_label_classes):\n",
    "    \"\"\" Read a CTF formatted text using the CTF deserializer from a file\"\"\"\n",
    "    labelStream = C.io.StreamDef(field='labels', shape=num_label_classes, is_sparse=False)\n",
    "    featureStream = C.io.StreamDef(field='features', shape=input_dim, is_sparse=False)\n",
    "    deserializer = C.io.CTFDeserializer(path, C.io.StreamDefs(labels=labelStream, features=featureStream))\n",
    "    return C.io.MinibatchSource(deserializer, randomize=is_training, max_sweeps=C.io.INFINITELY_REPEAT if is_training else 1)"
   ]
  },
  {
   "cell_type": "markdown",
   "metadata": {},
   "source": [
    "## Logistic Regression nework setup"
   ]
  },
  {
   "cell_type": "code",
   "execution_count": 9,
   "metadata": {},
   "outputs": [],
   "source": [
    "image = C.input_variable(input_dim)\n",
    "label = C.input_variable(num_output_classes)\n",
    "\n",
    "def create_model(features):\n",
    "    with C.layers.default_options(init=C.glorot_uniform()):\n",
    "        r = C.layers.Dense(num_output_classes, activation=None)(features)\n",
    "        return r\n",
    "\n",
    "# Scale the input ot 0-1 range by dividing each pixel by 255.\n",
    "z = create_model(image/255.0)\n",
    "loss = C.cross_entropy_with_softmax(z, label)\n",
    "label_error = C.classification_error(z, label)"
   ]
  },
  {
   "cell_type": "code",
   "execution_count": 10,
   "metadata": {},
   "outputs": [],
   "source": [
    "learning_rate = 0.2\n",
    "lr_schedule = C.learning_parameter_schedule(learning_rate)\n",
    "learner = C.sgd(z.parameters, lr_schedule)\n",
    "trainer = C.Trainer(z, (loss, label_error), [learner])\n",
    "\n",
    "# Define a utility function to compute the moving average sum.\n",
    "# A more efficient implementation is possible with np.cumsum() function\n",
    "def moving_average(a, w=5):\n",
    "    if len(a) < w:\n",
    "        return a[:]  # Need to send a copy of the array\n",
    "    return [val if idx < w else sum(a[(idx-w):idx])/w for idx, val in enumerate(a)]\n",
    "\n",
    "# Defines a utility that prints the training progress\n",
    "def print_training_progress(trainer, mb, frequency, verbose=1):\n",
    "    training_loss = \"NA\"\n",
    "    eval_error = \"NA\"\n",
    "    \n",
    "    if mb % frequency == 0:\n",
    "        training_loss = trainer.previous_minibatch_loss_average\n",
    "        eval_error = trainer.previous_minibatch_evaluation_average\n",
    "        if verbose:\n",
    "            print(\"Minibatch: {0}, Loss: {1:.4f}, Error: {2:.2f}%\".format(mb, training_loss, eval_error*100))\n",
    "    return mb, training_loss, eval_error        "
   ]
  },
  {
   "cell_type": "markdown",
   "metadata": {},
   "source": [
    "## Run the trainer"
   ]
  },
  {
   "cell_type": "code",
   "execution_count": 11,
   "metadata": {},
   "outputs": [],
   "source": [
    "minibatch_size = 64\n",
    "num_samples_per_sweep = 60000\n",
    "num_sweeps_to_train_with = 10\n",
    "num_minibatches_to_train = (num_samples_per_sweep * num_sweeps_to_train_with) / minibatch_size"
   ]
  },
  {
   "cell_type": "code",
   "execution_count": 12,
   "metadata": {},
   "outputs": [
    {
     "name": "stdout",
     "output_type": "stream",
     "text": [
      "Minibatch: 0, Loss: 2.2688, Error: 84.38%\n",
      "Minibatch: 500, Loss: 0.2542, Error: 6.25%\n",
      "Minibatch: 1000, Loss: 0.2631, Error: 3.12%\n",
      "Minibatch: 1500, Loss: 0.4910, Error: 15.62%\n",
      "Minibatch: 2000, Loss: 0.2292, Error: 7.81%\n",
      "Minibatch: 2500, Loss: 0.1546, Error: 4.69%\n",
      "Minibatch: 3000, Loss: 0.2870, Error: 7.81%\n",
      "Minibatch: 3500, Loss: 0.2961, Error: 6.25%\n",
      "Minibatch: 4000, Loss: 0.2764, Error: 3.12%\n",
      "Minibatch: 4500, Loss: 0.2333, Error: 7.81%\n",
      "Minibatch: 5000, Loss: 0.2287, Error: 6.25%\n",
      "Minibatch: 5500, Loss: 0.1871, Error: 6.25%\n",
      "Minibatch: 6000, Loss: 0.1601, Error: 3.12%\n",
      "Minibatch: 6500, Loss: 0.2085, Error: 7.81%\n",
      "Minibatch: 7000, Loss: 0.3106, Error: 9.38%\n",
      "Minibatch: 7500, Loss: 0.2929, Error: 6.25%\n",
      "Minibatch: 8000, Loss: 0.0857, Error: 0.00%\n",
      "Minibatch: 8500, Loss: 0.1392, Error: 4.69%\n",
      "Minibatch: 9000, Loss: 0.3307, Error: 9.38%\n"
     ]
    }
   ],
   "source": [
    "reader_train = create_reader(train_file, True, input_dim, num_output_classes)\n",
    "input_map = {\n",
    "    label: reader_train.streams.labels,\n",
    "    image: reader_train.streams.features\n",
    "}\n",
    "\n",
    "training_progress_output_freq = 500\n",
    "\n",
    "plotdata = {\"batchsize\":[], \"loss\":[], \"error\":[]}\n",
    "\n",
    "for i in range(0, int(num_minibatches_to_train)):\n",
    "    data = reader_train.next_minibatch(minibatch_size, input_map=input_map)\n",
    "    trainer.train_minibatch(data)\n",
    "    batchsize, loss, error = print_training_progress(trainer, i, training_progress_output_freq, verbose=1)\n",
    "    \n",
    "    if not (loss == \"NA\" or error == \"NA\"):\n",
    "        plotdata[\"batchsize\"].append(batchsize)\n",
    "        plotdata[\"loss\"].append(loss)\n",
    "        plotdata[\"error\"].append(error)"
   ]
  },
  {
   "cell_type": "code",
   "execution_count": 13,
   "metadata": {},
   "outputs": [
    {
     "data": {
      "image/png": "[encoded data removed]",
      "text/plain": [
       "<matplotlib.figure.Figure at 0x7f006154f1d0>"
      ]
     },
     "metadata": {},
     "output_type": "display_data"
    },
    {
     "data": {
      "image/png": "[encoded data removed]",
      "text/plain": [
       "<matplotlib.figure.Figure at 0x7f0086dbb6d8>"
      ]
     },
     "metadata": {},
     "output_type": "display_data"
    }
   ],
   "source": [
    "plotdata[\"avgloss\"] = moving_average(plotdata[\"loss\"])\n",
    "plotdata[\"avgerror\"] = moving_average(plotdata[\"error\"])\n",
    "\n",
    "import matplotlib.pyplot as plt\n",
    "\n",
    "plt.figure(1)\n",
    "plt.subplot(211)\n",
    "plt.plot(plotdata[\"batchsize\"], plotdata[\"avgloss\"], 'b--')\n",
    "plt.xlabel('Minibatch number')\n",
    "plt.ylabel('Loss')\n",
    "plt.title('Minibatch run vs. Training loss')\n",
    "plt.show()\n",
    "plt.subplot(212)\n",
    "plt.plot(plotdata[\"batchsize\"], plotdata[\"avgerror\"], 'r--')\n",
    "plt.xlabel('Minibatch number')\n",
    "plt.ylabel('Label Prediction Error')\n",
    "plt.title('Minibatch run vs. Label Prediction Error')\n",
    "plt.show()"
   ]
  },
  {
   "cell_type": "markdown",
   "metadata": {},
   "source": [
    "## Run evaluation / Testing"
   ]
  },
  {
   "cell_type": "code",
   "execution_count": 14,
   "metadata": {},
   "outputs": [
    {
     "name": "stdout",
     "output_type": "stream",
     "text": [
      "Average test error: 7.01%\n"
     ]
    }
   ],
   "source": [
    "reader_test = create_reader(test_file, False, input_dim, num_output_classes)\n",
    "\n",
    "test_input_map = {\n",
    "    label: reader_test.streams.labels,\n",
    "    image: reader_test.streams.features,\n",
    "}\n",
    "\n",
    "test_minibatch_size = 512\n",
    "num_samples = 10000\n",
    "num_minibatches_to_test = num_samples // test_minibatch_size\n",
    "test_result = 0.0\n",
    "\n",
    "for i in range(num_minibatches_to_test):\n",
    "    data = reader_test.next_minibatch(test_minibatch_size, input_map=test_input_map)\n",
    "    eval_error = trainer.test_minibatch(data)\n",
    "    test_result = test_result + eval_error\n",
    "\n",
    "print(\"Average test error: {0:.2f}%\".format(test_result*100/ num_minibatches_to_test))"
   ]
  },
  {
   "cell_type": "code",
   "execution_count": 15,
   "metadata": {},
   "outputs": [],
   "source": [
    "out = C.softmax(z)"
   ]
  },
  {
   "cell_type": "code",
   "execution_count": 17,
   "metadata": {},
   "outputs": [
    {
     "name": "stdout",
     "output_type": "stream",
     "text": [
      "Label    : [0, 9, 1, 2, 2, 9, 3, 6, 4, 8, 5, 8, 6, 3, 7, 7, 8, 5, 9, 2, 0, 7, 1, 2, 2]\n",
      "Predicted: [0, 9, 1, 2, 2, 9, 3, 4, 4, 8, 5, 8, 6, 3, 7, 7, 8, 3, 9, 2, 0, 1, 1, 2, 2]\n"
     ]
    }
   ],
   "source": [
    "reader_eval = create_reader(test_file, False, input_dim, num_output_classes)\n",
    "\n",
    "eval_minibatch_size = 25\n",
    "# eval_input_map = { image: reader_eval.streams.features }\n",
    "\n",
    "data = reader_test.next_minibatch(eval_minibatch_size, input_map = test_input_map)\n",
    "\n",
    "img_label = data[label].asarray()\n",
    "img_data = data[image].asarray()\n",
    "predicted_label_prob = [out.eval(img_data[i]) for i in range(len(img_data))]\n",
    "\n",
    "pred = [np.argmax(predicted_label_prob[i]) for i in range(len(predicted_label_prob))]\n",
    "gtlabel = [np.argmax(img_label[i]) for i in range(len(img_label))]\n",
    "\n",
    "print(\"Label    :\", gtlabel[:25])\n",
    "print(\"Predicted:\", pred)"
   ]
  },
  {
   "cell_type": "code",
   "execution_count": 18,
   "metadata": {},
   "outputs": [
    {
     "name": "stdout",
     "output_type": "stream",
     "text": [
      "Image Label: 6, Predicted Label: 4\n"
     ]
    },
    {
     "data": {
      "image/png": "[encoded data removed]",
      "text/plain": [
       "<matplotlib.figure.Figure at 0x7f0086d24240>"
      ]
     },
     "metadata": {},
     "output_type": "display_data"
    }
   ],
   "source": [
    "sample_number = 7\n",
    "plt.imshow(img_data[sample_number].reshape(28,28), cmap='gray_r')\n",
    "plt.axis('off')\n",
    "img_gt, img_pred = gtlabel[sample_number], pred[sample_number]\n",
    "print(\"Image Label: {0}, Predicted Label: {1}\".format(img_gt, img_pred))"
   ]
  },
  {
   "cell_type": "markdown",
   "metadata": {},
   "source": [
    "# Multi Layer Perceptron with MNIST\n",
    "\n",
    "Relatively simple multi-layer perceptron model with 2 hidden layers."
   ]
  },
  {
   "cell_type": "code",
   "execution_count": 14,
   "metadata": {},
   "outputs": [],
   "source": [
    "import matplotlib.image as mpimg\n",
    "import matplotlib.pyplot as plt\n",
    "import numpy as np\n",
    "import sys\n",
    "import os\n",
    "\n",
    "import cntk as C\n",
    "import cntk.tests.test_utils\n",
    "cntk.tests.test_utils.set_device_from_pytest_env() # (only needed for our build system)\n",
    "C.cntk_py.set_fixed_random_seed(1) # fix a random seed for CNTK components\n",
    "\n",
    "input_dim = 784\n",
    "num_output_classes = 10\n",
    "\n",
    "num_hidden_layers = 2\n",
    "hidden_layers_dim = 400\n",
    "\n",
    "image = C.input_variable(input_dim)\n",
    "label = C.input_variable(num_output_classes)\n",
    "\n",
    "def create_model(features):\n",
    "    with C.layers.default_options(init = C.layers.glorot_uniform(), activation = C.ops.relu):\n",
    "        h = features\n",
    "        for _ in range(num_hidden_layers):\n",
    "            h = C.layers.Dense(hidden_layers_dim)(h)\n",
    "        r = C.layers.Dense(num_output_classes, activation = None)(h)\n",
    "        return r\n",
    "\n",
    "z = create_model(image/255.0)\n",
    "\n",
    "loss = C.cross_entropy_with_softmax(z, label)\n",
    "label_error = C.classification_error(z, label)"
   ]
  },
  {
   "cell_type": "code",
   "execution_count": 15,
   "metadata": {},
   "outputs": [
    {
     "name": "stdout",
     "output_type": "stream",
     "text": [
      "Minibatch: 0, Loss: 2.3311, Error: 95.31%\n",
      "Minibatch: 500, Loss: 0.1621, Error: 6.25%\n",
      "Minibatch: 1000, Loss: 0.0789, Error: 1.56%\n",
      "Minibatch: 1500, Loss: 0.0659, Error: 3.12%\n",
      "Minibatch: 2000, Loss: 0.0200, Error: 0.00%\n",
      "Minibatch: 2500, Loss: 0.0134, Error: 0.00%\n",
      "Minibatch: 3000, Loss: 0.0273, Error: 1.56%\n",
      "Minibatch: 3500, Loss: 0.0723, Error: 4.69%\n",
      "Minibatch: 4000, Loss: 0.0039, Error: 0.00%\n",
      "Minibatch: 4500, Loss: 0.0612, Error: 1.56%\n",
      "Minibatch: 5000, Loss: 0.0141, Error: 0.00%\n",
      "Minibatch: 5500, Loss: 0.0257, Error: 1.56%\n",
      "Minibatch: 6000, Loss: 0.0057, Error: 0.00%\n",
      "Minibatch: 6500, Loss: 0.0064, Error: 0.00%\n",
      "Minibatch: 7000, Loss: 0.0299, Error: 0.00%\n",
      "Minibatch: 7500, Loss: 0.0118, Error: 0.00%\n",
      "Minibatch: 8000, Loss: 0.0013, Error: 0.00%\n",
      "Minibatch: 8500, Loss: 0.0052, Error: 0.00%\n",
      "Minibatch: 9000, Loss: 0.0022, Error: 0.00%\n"
     ]
    }
   ],
   "source": [
    "learning_rate = 0.2\n",
    "lr_schedule = C.learning_parameter_schedule(learning_rate)\n",
    "learner = C.sgd(z.parameters, lr_schedule)\n",
    "trainer = C.Trainer(z, (loss, label_error), [learner])\n",
    "\n",
    "# Define a utility function to compute the moving average sum.\n",
    "# A more efficient implementation is possible with np.cumsum() function\n",
    "def moving_average(a, w=5):\n",
    "    if len(a) < w:\n",
    "        return a[:]    # Need to send a copy of the array\n",
    "    return [val if idx < w else sum(a[(idx-w):idx])/w for idx, val in enumerate(a)]\n",
    "\n",
    "\n",
    "# Defines a utility that prints the training progress\n",
    "def print_training_progress(trainer, mb, frequency, verbose=1):\n",
    "    training_loss = \"NA\"\n",
    "    eval_error = \"NA\"\n",
    "\n",
    "    if mb%frequency == 0:\n",
    "        training_loss = trainer.previous_minibatch_loss_average\n",
    "        eval_error = trainer.previous_minibatch_evaluation_average\n",
    "        if verbose:\n",
    "            print (\"Minibatch: {0}, Loss: {1:.4f}, Error: {2:.2f}%\".format(mb, training_loss, eval_error*100))\n",
    "\n",
    "    return mb, training_loss, eval_error\n",
    "\n",
    "minibatch_size = 64\n",
    "num_samples_per_sweep = 60000\n",
    "num_sweeps_to_train_with = 10\n",
    "num_minibatches_to_train = (num_samples_per_sweep * num_sweeps_to_train_with) / minibatch_size\n",
    "\n",
    "train_file = \"./MNIST-data/Train-28x28_cntk_text.txt\"\n",
    "test_file = \"./MNIST-data/Test-28x28_cntk_text.txt\"\n",
    "\n",
    "def create_reader(path, is_training, input_dim, num_label_classes):\n",
    "    return C.io.MinibatchSource(C.io.CTFDeserializer(path, C.io.StreamDefs(\n",
    "        labels = C.io.StreamDef(field='labels', shape=num_label_classes, is_sparse=False),\n",
    "        features   = C.io.StreamDef(field='features', shape=input_dim, is_sparse=False)\n",
    "        )), randomize = is_training, max_sweeps = C.io.INFINITELY_REPEAT if is_training else 1)\n",
    "\n",
    "reader_train = create_reader(train_file, True, input_dim, num_output_classes)\n",
    "input_map = {\n",
    "    label: reader_train.streams.labels,\n",
    "    image: reader_train.streams.features\n",
    "}\n",
    "\n",
    "training_progress_output_freq = 500\n",
    "plotdata = {\"batchsize\":[], \"loss\":[], \"error\":[]}\n",
    "\n",
    "\n",
    "for i in range(0, int(num_minibatches_to_train)):\n",
    "    data = reader_train.next_minibatch(minibatch_size, input_map=input_map)\n",
    "    trainer.train_minibatch(data)\n",
    "    batchsize, loss, error = print_training_progress(trainer, i, training_progress_output_freq, verbose=1)\n",
    "    if not (loss == \"NA\" or error == \"NA\"):\n",
    "        plotdata[\"batchsize\"].append(batchsize)\n",
    "        plotdata[\"loss\"].append(loss)\n",
    "        plotdata[\"error\"].append(error)"
   ]
  },
  {
   "cell_type": "code",
   "execution_count": 16,
   "metadata": {},
   "outputs": [
    {
     "data": {
      "image/png": "[encoded data removed]",
      "text/plain": [
       "<matplotlib.figure.Figure at 0x191c6766898>"
      ]
     },
     "metadata": {},
     "output_type": "display_data"
    },
    {
     "data": {
      "image/png": "[encoded data removed]",
      "text/plain": [
       "<matplotlib.figure.Figure at 0x191c234edd8>"
      ]
     },
     "metadata": {},
     "output_type": "display_data"
    }
   ],
   "source": [
    "# Compute the moving average loss to smooth out the noise in SGD\n",
    "plotdata[\"avgloss\"] = moving_average(plotdata[\"loss\"])\n",
    "plotdata[\"avgerror\"] = moving_average(plotdata[\"error\"])\n",
    "\n",
    "# Plot the training loss and the training error\n",
    "import matplotlib.pyplot as plt\n",
    "\n",
    "plt.figure(1)\n",
    "plt.subplot(211)\n",
    "plt.plot(plotdata[\"batchsize\"], plotdata[\"avgloss\"], 'b--')\n",
    "plt.xlabel('Minibatch number')\n",
    "plt.ylabel('Loss')\n",
    "plt.title('Minibatch run vs. Training loss')\n",
    "\n",
    "plt.show()\n",
    "\n",
    "plt.subplot(212)\n",
    "plt.plot(plotdata[\"batchsize\"], plotdata[\"avgerror\"], 'r--')\n",
    "plt.xlabel('Minibatch number')\n",
    "plt.ylabel('Label Prediction Error')\n",
    "plt.title('Minibatch run vs. Label Prediction Error')\n",
    "plt.show()"
   ]
  },
  {
   "cell_type": "code",
   "execution_count": 17,
   "metadata": {},
   "outputs": [
    {
     "name": "stdout",
     "output_type": "stream",
     "text": [
      "Average test error: 0.05%\n"
     ]
    }
   ],
   "source": [
    "reader_test = create_reader(test_file, False, input_dim, num_output_classes)\n",
    "\n",
    "test_input_map = {\n",
    "    label: reader_test.streams.labels,\n",
    "    image: reader_test.streams.features\n",
    "}\n",
    "\n",
    "test_minibatch_size = 512\n",
    "num_samples = 10000\n",
    "num_minibatches_to_test = num_samples // test_minibatch_size\n",
    "test_result = 0.0\n",
    "\n",
    "for i in range(num_minibatches_to_test):\n",
    "    data = reader_test.next_minibatch(test_minibatch_size, input_map=test_input_map)\n",
    "    eval_error = trainer.test_minibatch(data)\n",
    "    test_result = test_result + eval_error\n",
    "    \n",
    "print(\"Average test error: {0:.2f}%\".format(test_result*100/ num_minibatches_to_test))"
   ]
  },
  {
   "cell_type": "code",
   "execution_count": 21,
   "metadata": {},
   "outputs": [
    {
     "name": "stdout",
     "output_type": "stream",
     "text": [
      "Label    : [3, 3, 2, 4, 8, 5, 9, 6, 3, 7, 7, 8, 0, 9, 8, 7, 8, 4, 1, 3, 6, 8, 5, 5, 6]\n",
      "Predicted: [3, 3, 2, 4, 8, 5, 9, 6, 3, 7, 7, 8, 0, 9, 8, 7, 8, 4, 1, 3, 6, 8, 5, 5, 6]\n"
     ]
    }
   ],
   "source": [
    "out = C.softmax(z)\n",
    "\n",
    "eval_minibatch_size = 25\n",
    "\n",
    "data = reader_test.next_minibatch(eval_minibatch_size, input_map=test_input_map)\n",
    "\n",
    "img_label = data[label].asarray()\n",
    "img_data = data[image].asarray()\n",
    "predicted_label_prob = [out.eval(img_data[i]) for i in range(len(img_label))]\n",
    "\n",
    "pred = [np.argmax(predicted_label_prob[i]) for i in range(len(predicted_label_prob))]\n",
    "gtlabel = [np.argmax(img_label[i]) for i in range(len(img_label))]\n",
    "print(\"Label    :\", gtlabel[:25])\n",
    "print(\"Predicted:\", pred)"
   ]
  },
  {
   "cell_type": "code",
   "execution_count": 22,
   "metadata": {},
   "outputs": [
    {
     "name": "stdout",
     "output_type": "stream",
     "text": [
      "Image Label: 5, Predicted Label: 5\n"
     ]
    },
    {
     "data": {
      "image/png": "[encoded data removed]",
      "text/plain": [
       "<matplotlib.figure.Figure at 0x191c2374278>"
      ]
     },
     "metadata": {},
     "output_type": "display_data"
    }
   ],
   "source": [
    "sample_number = 5\n",
    "plt.imshow(img_data[sample_number].reshape(28,28), cmap=\"gray_r\")\n",
    "plt.axis(\"off\")\n",
    "img_gt, img_pred = gtlabel[sample_number], pred[sample_number]\n",
    "print(\"Image Label: {0}, Predicted Label: {1}\".format(img_gt, img_pred))"
   ]
  },
  {
   "cell_type": "markdown",
   "metadata": {},
   "source": [
    "# Convolutional Neural Network with MNIST"
   ]
  },
  {
   "cell_type": "code",
   "execution_count": 1,
   "metadata": {},
   "outputs": [],
   "source": [
    "import matplotlib.image as mpimg\n",
    "import matplotlib.pyplot as plt\n",
    "import numpy as np\n",
    "import os\n",
    "import sys\n",
    "import time\n",
    "\n",
    "import cntk as C\n",
    "import cntk.tests.test_utils\n",
    "cntk.tests.test_utils.set_device_from_pytest_env() # (only needed for our build system)\n",
    "C.cntk_py.set_fixed_random_seed(1) \n",
    "\n",
    "plt.ion()"
   ]
  },
  {
   "cell_type": "code",
   "execution_count": 2,
   "metadata": {},
   "outputs": [],
   "source": [
    "# Define the data dimensions\n",
    "input_dim_model = (1, 28, 28)    # images are 28 x 28 with 1 channel of color (gray)\n",
    "input_dim = 28*28                # used by readers to treat input data as a vector\n",
    "num_output_classes = 10\n",
    "\n",
    "def create_reader(path, is_training, input_dim, num_label_classes):\n",
    "\n",
    "    ctf = C.io.CTFDeserializer(path, C.io.StreamDefs(\n",
    "          labels=C.io.StreamDef(field='labels', shape=num_label_classes, is_sparse=False),\n",
    "          features=C.io.StreamDef(field='features', shape=input_dim, is_sparse=False)))\n",
    "\n",
    "    return C.io.MinibatchSource(ctf,\n",
    "        randomize = is_training, max_sweeps = C.io.INFINITELY_REPEAT if is_training else 1)\n",
    "\n",
    "train_file = \"./MNIST-data/Train-28x28_cntk_text.txt\"\n",
    "test_file = \"./MNIST-data/Test-28x28_cntk_text.txt\""
   ]
  },
  {
   "cell_type": "markdown",
   "metadata": {},
   "source": [
    "# Create Model"
   ]
  },
  {
   "cell_type": "code",
   "execution_count": 3,
   "metadata": {},
   "outputs": [
    {
     "name": "stdout",
     "output_type": "stream",
     "text": [
      "Output Shape of the first convoluation layer: (8, 14, 14)\n",
      "Bias value of the last dense layer: [0. 0. 0. 0. 0. 0. 0. 0. 0. 0.]\n",
      "Training 11274 parameters in 6 parameter tensors.\n"
     ]
    }
   ],
   "source": [
    "x = C.input_variable(input_dim_model)\n",
    "y = C.input_variable(num_output_classes)\n",
    "\n",
    "def create_model(features):\n",
    "    with C.layers.default_options(init=C.glorot_uniform(), activation=C.ops.relu):\n",
    "        h = features\n",
    "        h = C.layers.Convolution2D(filter_shape=(5,5),\n",
    "                                  num_filters=8,\n",
    "                                  strides=(2,2),\n",
    "                                  pad=True,\n",
    "                                  name='first_conv')(h)\n",
    "        h = C.layers.Convolution2D(filter_shape=(5,5),\n",
    "                                  num_filters=16,\n",
    "                                  strides=(2,2),\n",
    "                                  pad=True, name='second_conv')(h)\n",
    "        r = C.layers.Dense(num_output_classes, activation=None, name='classify')(h)\n",
    "        return r\n",
    "    \n",
    "z = create_model(x)\n",
    "\n",
    "print(\"Output Shape of the first convoluation layer:\", z.first_conv.shape)\n",
    "print(\"Bias value of the last dense layer:\", z.classify.b.value)\n",
    "C.logging.log_number_of_parameters(z)"
   ]
  },
  {
   "cell_type": "code",
   "execution_count": 17,
   "metadata": {},
   "outputs": [],
   "source": [
    "def create_criterion_function(model, labels):\n",
    "    loss = C.cross_entropy_with_softmax(model, labels)\n",
    "    errs = C.classification_error(model, labels)\n",
    "    return loss, errs\n",
    "    \n",
    "def moving_average(a, w=5):\n",
    "    if len(a) < w:\n",
    "        return a[:]\n",
    "    return [val if idx < w else sum(a[(idx-w):idx])/w for idx, val in enumerate(a)]\n",
    "\n",
    "def print_training_progress(trainer, mb, frequency, verbose=1):\n",
    "    training_loss = \"NA\"\n",
    "    eval_error = \"NA\"\n",
    "    if mb%frequency == 0:\n",
    "        training_loss = trainer.previous_minibatch_loss_average\n",
    "        eval_error = trainer.previous_minibatch_evaluation_average\n",
    "        if verbose:\n",
    "            print(\"Minibatch: {0}, Loss: {1:.4f}, Error: {2:.2f}%\".format(mb, training_loss, eval_error*100))\n",
    "    return mb, training_loss, eval_error\n"
   ]
  },
  {
   "cell_type": "markdown",
   "metadata": {},
   "source": [
    "## Configure training"
   ]
  },
  {
   "cell_type": "code",
   "execution_count": 20,
   "metadata": {},
   "outputs": [],
   "source": [
    "def train_test(train_reader, test_reader, model_func, num_sweeps_to_train_with=10):\n",
    "    model = model_func(x/255)\n",
    "    loss, label_error = create_criterion_function(model, y)\n",
    "    learning_rate = 0.2\n",
    "    lr_schedule = C.learning_parameter_schedule(learning_rate)\n",
    "    learner = C.sgd(z.parameters, lr_schedule)\n",
    "    trainer = C.Trainer(z, (loss, label_error), [learner])\n",
    "    minibatch_size =64\n",
    "    num_samples_per_sweep = 60000\n",
    "    num_minibatches_to_train = (num_samples_per_sweep * num_sweeps_to_train_with) / minibatch_size\n",
    "    input_map = {\n",
    "        y: train_reader.streams.labels,\n",
    "        x: train_reader.streams.features\n",
    "    }\n",
    "    training_progress_output_freq = 500\n",
    "    start = time.time()\n",
    "    for i in range(0, int(num_minibatches_to_train)):\n",
    "        data = train_reader.next_minibatch(minibatch_size, input_map=input_map)\n",
    "        trainer.train_minibatch(data)\n",
    "        print_training_progress(trainer, i, training_progress_output_freq, verbose=1)\n",
    "    print(\"Training took {:.1f} sec\".format(time.time() - start))\n",
    "    \n",
    "    test_input_map = {\n",
    "        y: test_reader.streams.labels,\n",
    "        x: test_reader.streams.features\n",
    "    }\n",
    "    \n",
    "    test_minibatch_size = 512\n",
    "    num_samples = 10000\n",
    "    num_minibatches_to_test = num_samples // test_minibatch_size\n",
    "    test_result = 0.0\n",
    "    for i in range(num_minibatches_to_test):\n",
    "        data = test_reader.next_minibatch(test_minibatch_size, input_map=test_input_map)\n",
    "        eval_error = trainer.test_minibatch(data)\n",
    "        test_result = test_result + eval_error\n",
    "    print(\"Average test error: {0:.2f}%\".format(test_result*100/num_minibatches_to_test))"
   ]
  },
  {
   "cell_type": "code",
   "execution_count": 21,
   "metadata": {},
   "outputs": [
    {
     "name": "stdout",
     "output_type": "stream",
     "text": [
      "Minibatch: 0, Loss: 2.3093, Error: 89.06%\n",
      "Minibatch: 500, Loss: 0.2153, Error: 7.81%\n",
      "Minibatch: 1000, Loss: 0.1294, Error: 4.69%\n",
      "Minibatch: 1500, Loss: 0.1101, Error: 3.12%\n",
      "Minibatch: 2000, Loss: 0.0253, Error: 0.00%\n",
      "Minibatch: 2500, Loss: 0.0037, Error: 0.00%\n",
      "Minibatch: 3000, Loss: 0.0093, Error: 0.00%\n",
      "Minibatch: 3500, Loss: 0.0481, Error: 1.56%\n",
      "Minibatch: 4000, Loss: 0.0263, Error: 1.56%\n",
      "Minibatch: 4500, Loss: 0.0394, Error: 1.56%\n",
      "Minibatch: 5000, Loss: 0.0157, Error: 1.56%\n",
      "Minibatch: 5500, Loss: 0.0020, Error: 0.00%\n",
      "Minibatch: 6000, Loss: 0.0109, Error: 0.00%\n",
      "Minibatch: 6500, Loss: 0.0199, Error: 0.00%\n",
      "Minibatch: 7000, Loss: 0.0225, Error: 1.56%\n",
      "Minibatch: 7500, Loss: 0.0020, Error: 0.00%\n",
      "Minibatch: 8000, Loss: 0.0037, Error: 0.00%\n",
      "Minibatch: 8500, Loss: 0.0112, Error: 0.00%\n",
      "Minibatch: 9000, Loss: 0.0313, Error: 1.56%\n",
      "Training took 7.6 sec\n",
      "Average test error: 0.66%\n"
     ]
    }
   ],
   "source": [
    "def do_train_test():\n",
    "    global z\n",
    "    z = create_model(x)\n",
    "    reader_train = create_reader(train_file, True, input_dim, num_output_classes)\n",
    "    reader_test = create_reader(test_file, False, input_dim, num_output_classes)\n",
    "    train_test(reader_train, reader_test, z)\n",
    "    \n",
    "do_train_test()"
   ]
  },
  {
   "cell_type": "code",
   "execution_count": 22,
   "metadata": {},
   "outputs": [
    {
     "name": "stdout",
     "output_type": "stream",
     "text": [
      "Bias value of the last dense layer: [-0.02220903 -0.04804248  0.07772575 -0.07995933 -0.02110142 -0.07236961\n",
      " -0.00538616 -0.1251514   0.25131276  0.0450375 ]\n"
     ]
    }
   ],
   "source": [
    "print(\"Bias value of the last dense layer:\", z.classify.b.value)"
   ]
  },
  {
   "cell_type": "code",
   "execution_count": 23,
   "metadata": {},
   "outputs": [],
   "source": [
    "out = C.softmax(z)"
   ]
  },
  {
   "cell_type": "code",
   "execution_count": 27,
   "metadata": {},
   "outputs": [
    {
     "name": "stdout",
     "output_type": "stream",
     "text": [
      "Label    : [5, 0, 4, 1, 9, 2, 1, 3, 1, 4, 3, 5, 3, 6, 1, 7, 2, 8, 6, 9, 4, 0, 9, 1, 1]\n",
      "Predicted: [5, 0, 4, 1, 9, 2, 1, 3, 1, 4, 3, 5, 3, 6, 1, 7, 2, 8, 6, 9, 4, 0, 9, 1, 1]\n"
     ]
    }
   ],
   "source": [
    "reader_eval = create_reader(test_file, False, input_dim, num_output_classes)\n",
    "eval_minibatch_size = 25\n",
    "eval_input_map = {\n",
    "    x: reader_eval.streams.features,\n",
    "    y: reader_eval.streams.labels\n",
    "}\n",
    "\n",
    "data = reader_eval.next_minibatch(eval_minibatch_size, input_map=eval_input_map)\n",
    "\n",
    "img_label = data[y].asarray()\n",
    "img_data = data[x].asarray()\n",
    "\n",
    "img_data = np.reshape(img_data, (eval_minibatch_size,1,28,28))\n",
    "\n",
    "predicted_label_prob = [out.eval(img_data[i]) for i in range(len(img_data))]\n",
    "\n",
    "pred = [np.argmax(predicted_label_prob[i]) for i in range(len(predicted_label_prob))]\n",
    "gtlabel = [np.argmax(img_label[i]) for i in range(len(img_label))]\n",
    "print(\"Label    :\", gtlabel[:25])\n",
    "print(\"Predicted:\", pred)"
   ]
  },
  {
   "cell_type": "code",
   "execution_count": 29,
   "metadata": {},
   "outputs": [
    {
     "name": "stdout",
     "output_type": "stream",
     "text": [
      "Predicted Label: 2, Image Label: 2\n"
     ]
    },
    {
     "data": {
      "image/png": "[encoded data removed]",
      "text/plain": [
       "<matplotlib.figure.Figure at 0x1de05adfc50>"
      ]
     },
     "metadata": {},
     "output_type": "display_data"
    }
   ],
   "source": [
    "sample_number =5\n",
    "plt.imshow(img_data[sample_number].reshape(28,28), cmap=\"gray_r\")\n",
    "plt.axis(\"off\")\n",
    "img_gt, img_pred = gtlabel[sample_number], pred[sample_number]\n",
    "print(\"Predicted Label: {0}, Image Label: {1}\".format(img_pred, img_gt))"
   ]
  },
  {
   "cell_type": "code",
   "execution_count": 34,
   "metadata": {},
   "outputs": [
    {
     "name": "stdout",
     "output_type": "stream",
     "text": [
      "Training 5994 parameters in 6 parameter tensors.\n",
      "Minibatch: 0, Loss: 2.3725, Error: 89.06%\n",
      "Minibatch: 500, Loss: 0.2003, Error: 10.94%\n",
      "Minibatch: 1000, Loss: 0.1234, Error: 3.12%\n",
      "Minibatch: 1500, Loss: 0.0400, Error: 1.56%\n",
      "Minibatch: 2000, Loss: 0.0181, Error: 0.00%\n",
      "Minibatch: 2500, Loss: 0.0212, Error: 1.56%\n",
      "Minibatch: 3000, Loss: 0.0088, Error: 0.00%\n",
      "Minibatch: 3500, Loss: 0.0558, Error: 1.56%\n",
      "Minibatch: 4000, Loss: 0.0148, Error: 0.00%\n",
      "Minibatch: 4500, Loss: 0.0262, Error: 1.56%\n",
      "Minibatch: 5000, Loss: 0.0553, Error: 1.56%\n",
      "Minibatch: 5500, Loss: 0.0022, Error: 0.00%\n",
      "Minibatch: 6000, Loss: 0.0089, Error: 0.00%\n",
      "Minibatch: 6500, Loss: 0.0179, Error: 0.00%\n",
      "Minibatch: 7000, Loss: 0.0069, Error: 0.00%\n",
      "Minibatch: 7500, Loss: 0.0047, Error: 0.00%\n",
      "Minibatch: 8000, Loss: 0.0005, Error: 0.00%\n",
      "Minibatch: 8500, Loss: 0.0137, Error: 0.00%\n",
      "Minibatch: 9000, Loss: 0.0161, Error: 1.56%\n",
      "Training took 8.2 sec\n",
      "Average test error: 0.50%\n"
     ]
    }
   ],
   "source": [
    "def create_model(features):\n",
    "    with C.layers.default_options(init=C.glorot_uniform(), activation=C.ops.relu):\n",
    "        h = features\n",
    "        h = C.layers.Convolution2D(filter_shape=(5,5,),\n",
    "                                  num_filters=8,\n",
    "                                  strides=(1,1),\n",
    "                                  pad=True, name='first_conv')(h)\n",
    "        h = C.layers.MaxPooling(filter_shape=(2,2),\n",
    "                               strides=(2,2), name='fisrt_max')(h)\n",
    "        h = C.layers.Convolution2D(filter_shape=(5,5),\n",
    "                                 num_filters=16,\n",
    "                                 strides=(1,1),\n",
    "                                 pad=True, name=\"second_conv\")(h)\n",
    "        h = C.layers.MaxPooling(filter_shape=(3,3),\n",
    "                               strides=(3,3), name=\"second_max\")(h)\n",
    "        r = C.layers.Dense(num_output_classes, activation=None, name=\"classify\")(h)\n",
    "        return r\n",
    "\n",
    "z = create_model(x)\n",
    "C.logging.log_number_of_parameters(z)\n",
    "do_train_test()"
   ]
  },
  {
   "cell_type": "code",
   "execution_count": null,
   "metadata": {},
   "outputs": [],
   "source": []
  }
 ],
 "metadata": {
  "kernelspec": {
   "display_name": "Python 3",
   "language": "python",
   "name": "python3"
  },
  "language_info": {
   "codemirror_mode": {
    "name": "ipython",
    "version": 3
   },
   "file_extension": ".py",
   "mimetype": "text/x-python",
   "name": "python",
   "nbconvert_exporter": "python",
   "pygments_lexer": "ipython3",
   "version": "3.6.4"
  }
 },
 "nbformat": 4,
 "nbformat_minor": 2
}
